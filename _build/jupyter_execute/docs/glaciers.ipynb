{
 "cells": [
  {
   "cell_type": "markdown",
   "metadata": {},
   "source": [
    "(about_py)=\n",
    "\n",
    "# Glaciers\n",
    "\n",
    "## Glacier Types\n",
    "\n",
    "## Climate Conditions for Glaciers\n",
    "\n",
    "- High snowfall in winter + cool temperature in summer\n",
    "- Accumulated snow transforms into firn and then ice\n",
    "- In polar and alpine regions \n",
    "- Sources and losses\n",
    "\n",
    "## Locations of Glaciers \n",
    "\n",
    "## The Life Cycle of a Glacier\n",
    "\n",
    "## Moraines\n",
    "\n",
    "## Pink Glacial Ice in the Alps\n",
    "\n",
    "## Glacier Observations and Modelling\n",
    "\n",
    "## Glacier Retreat and Sea Level Rise\n",
    "```{figure} /_static/lecture_specific/figures/glaciers_slr.jpeg\n",
    ":scale: 55%\n",
    "Global sea level rise. Source: [Björnsson et al. (2018)](https://www.vatnajokulsthjodgardur.is/en/areas/melting-glaciers/glaciers-and-climate-change/references)\n",
    "```\n",
    "\n",
    "## Greenland Glacier and Natural Variability\n",
    "\n",
    "## Sources\n",
    "\n",
    "- [NSIDC All About Glaciers](https://nsidc.org/cryosphere/glaciers )"
   ]
  }
 ],
 "metadata": {
  "jupytext": {
   "text_representation": {
    "extension": ".md",
    "format_name": "myst"
   }
  },
  "kernelspec": {
   "display_name": "Python 3",
   "language": "python",
   "name": "python3"
  },
  "language_info": {
   "codemirror_mode": {
    "name": "ipython",
    "version": 3
   },
   "file_extension": ".py",
   "mimetype": "text/x-python",
   "name": "python",
   "nbconvert_exporter": "python",
   "pygments_lexer": "ipython3",
   "version": "3.8.5"
  },
  "source_map": [
   10
  ]
 },
 "nbformat": 4,
 "nbformat_minor": 4
}