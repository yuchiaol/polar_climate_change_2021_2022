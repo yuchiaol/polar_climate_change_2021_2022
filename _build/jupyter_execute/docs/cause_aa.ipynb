{
 "cells": [
  {
   "cell_type": "markdown",
   "metadata": {},
   "source": [
    "(about_py)=\n",
    "\n",
    "# Cause of Arctic Amplification\n",
    "\n",
    "> Arctic Amplification is a prominent feature of global warming!\n",
    "\n",
    "## What is Arctic Amplification (AA)?\n",
    "\n",
    "- Near-surface of the Northern Hemisphere high latitudes are warming at rates double that of lower latitudes (Cohen et al., 2014).\n",
    "\n",
    "```{figure} /_static/lecture_specific/figures/acw_giss_map_1960_2019.png\n",
    "---\n",
    "scale: 75%\n",
    "---\n",
    "Trends in mean surface air temperature over the period 1960 to 2019. The fact that Arctic warms more than the rest of the globe in the past decades signatures the Arctic amplification. Credit: NASA GISS.\n",
    "```\n",
    "\n",
    "## Why AA is important?\n",
    "\n",
    "- Local impacts on human dimension\n",
    "- Local impacts on nature system\n",
    "- Remote impacts\n",
    "\n",
    "## Quantitative definition of AA\n",
    "\n",
    "- Arctic amplification factor (AAF): Arctic surface air temperature change divided by global surface air temperature change.\n",
    "- Arctic amplification efficacy (AAE): AAF$_{XX}$ divided by AAF$_{CO_2}$, where $XX$ is the forcing agent.\n",
    "\n",
    "## AA in Observational Records and Models\n",
    "\n",
    "- Paleoclimate records\n",
    "- Present-day observations\n",
    "- General circulation model\n",
    "- State-of-the-art climate model and future projection\n",
    "\n",
    "## AA Structure\n",
    "\n",
    "- AA has distinct seasonal and meridional structures.\n",
    "\n",
    "## Physical Mechanisms Causing AA\n",
    "\n",
    "### Climate Forcing\n",
    "\n",
    "- We are here!\n",
    "\n",
    "### Climate Feedbacks\n",
    "\n",
    "### Poleward Energy Transport\n",
    "\n",
    "\n",
    "\n",
    "## Sources\n",
    "\n",
    "- [NSIDC All About Frozen Ground](https://nsidc.org/cryosphere/frozenground/index.html)"
   ]
  }
 ],
 "metadata": {
  "jupytext": {
   "text_representation": {
    "extension": ".md",
    "format_name": "myst"
   }
  },
  "kernelspec": {
   "display_name": "Python 3",
   "language": "python",
   "name": "python3"
  },
  "language_info": {
   "codemirror_mode": {
    "name": "ipython",
    "version": 3
   },
   "file_extension": ".py",
   "mimetype": "text/x-python",
   "name": "python",
   "nbconvert_exporter": "python",
   "pygments_lexer": "ipython3",
   "version": "3.8.5"
  },
  "source_map": [
   10
  ]
 },
 "nbformat": 4,
 "nbformat_minor": 4
}