{
 "cells": [
  {
   "cell_type": "markdown",
   "metadata": {},
   "source": [
    "(python_by_example)=\n",
    "\n",
    "# HW Linear Baroclinic Model\n",
    "\n",
    "## Individual Work\n",
    "\n",
    "## Credits: 15%\n",
    "\n",
    "## Grading:\n",
    "- Yu-Chiao Liang (9%)\n",
    "- TA xxx (3%) \n",
    "- TA xxx (3%)\n",
    "\n",
    "## Deadline: xxx\n",
    "\n",
    "## The Tasks\n",
    "\n",
    "- Set up and run the model successfully.\n",
    "- Learn how to change forcing strength, shape, and location.\n",
    "- Reproduce the Central Pacific forcing.\n",
    "- Check:\n",
    "  - Background fields.\n",
    "  - Winds, sea-level pressure, geopotential height, temperature fields.\n",
    "- Use diagnostic tools to analyze the wave activity features.\n",
    "\n",
    "## The Model\n",
    "\n",
    "This linear baroclinic model (LBM) was developed and maintained by Dr Michiya Hayashi. \n",
    "The official website is [here](https://ccsr.aori.u-tokyo.ac.jp/~lbm/sub/lbm_4.html).\n",
    "I have ported LBM on workstation xxx. Please ask your group leaders for login information.\n",
    "\n",
    "## Running the Model\n",
    "\n",
    "## Tropical Forcing Example\n",
    "```{figure} /_static/lecture_specific/figures/lbm_cp_forcing.gif\n",
    ":scale: 40%\n",
    "```\n",
    "## Diagnostic Tools\n",
    "\n",
    "- Eliassen-Palm (EP) flux\n",
    "  - [NCL function](https://www.ncl.ucar.edu/Applications/EPflux.shtml)\n",
    "  - [Python function](https://github.com/mjucker/aostools/blob/master/climate.py)\n",
    "- Wave Activity Fluxes  \n",
    "  - [GrADS](http://www.atmos.rcast.u-tokyo.ac.jp/nishii/programs/index.html)\n",
    "  - [Python](https://github.com/marisolosman/Reunion_Clima/blob/master/WAF/Calculo_WAF.ipynb)\n",
    "- Rossby Wave Source\n",
    "  - [Python] (https://ajdawson.github.io/windspharm/latest/examples/rws_standard.html) \n",
    "- Streamfunction and Velocity Potential\n",
    "  - [Python](https://ajdawson.github.io/windspharm/latest/examples/sfvp_standard.html)\n",
    "\n",
    "## References\n",
    "\n",
    "- [Ting and Held (1990)](https://journals.ametsoc.org/view/journals/atsc/47/21/1520-0469_1990_047_2546_tswrta_2_0_co_2.xml)\n",
    "- [Eliassen and Palm (1961)](https://math.nyu.edu/~pauluis/TEM/TEM/Papers_files/Ellassen%26Palm_1961.pdf)\n",
    "- [Takaya and Nakamura (2001)](https://journals.ametsoc.org/view/journals/atsc/58/6/1520-0469_2001_058_0608_afoapi_2.0.co_2.xml)"
   ]
  }
 ],
 "metadata": {
  "jupytext": {
   "text_representation": {
    "extension": ".md",
    "format_name": "myst"
   }
  },
  "kernelspec": {
   "display_name": "Python 3",
   "language": "python",
   "name": "python3"
  },
  "language_info": {
   "codemirror_mode": {
    "name": "ipython",
    "version": 3
   },
   "file_extension": ".py",
   "mimetype": "text/x-python",
   "name": "python",
   "nbconvert_exporter": "python",
   "pygments_lexer": "ipython3",
   "version": "3.8.5"
  },
  "source_map": [
   10
  ]
 },
 "nbformat": 4,
 "nbformat_minor": 4
}